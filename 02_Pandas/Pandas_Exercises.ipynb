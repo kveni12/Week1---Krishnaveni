{
 "cells": [
  {
   "cell_type": "markdown",
   "source": "# Pandas Exercises",
   "metadata": {
    "colab_type": "text",
    "id": "bSU6eKZTdMXZ",
    "cell_id": "00000-a1a70b45-4173-41c3-bd0f-1c7334aedbc1",
    "deepnote_cell_type": "markdown",
    "deepnote_cell_height": 82
   }
  },
  {
   "cell_type": "code",
   "metadata": {
    "colab_type": "code",
    "id": "c5ewTg7vdQFm",
    "colab": {},
    "cell_id": "00001-c6d0491e-81bf-48bb-9f7d-2474bd25924c",
    "deepnote_to_be_reexecuted": false,
    "source_hash": "73161b4",
    "execution_start": 1657728493160,
    "execution_millis": 0,
    "deepnote_cell_type": "code",
    "deepnote_cell_height": 135
   },
   "source": "import pandas as pd\n\nurl = \"https://raw.githubusercontent.com/BeaverWorksMedlytics2020/Data_Public/master/NotebookExampleData/Week1/diabetes.csv\"\nnames = ['preg', 'plas', 'pres', 'skin', 'test', 'mass', 'pedi', 'age', 'class']",
   "outputs": [],
   "execution_count": null
  },
  {
   "cell_type": "markdown",
   "source": "Read in csv above to a pandas dataframe",
   "metadata": {
    "colab_type": "text",
    "id": "QOLgFaSKeShR",
    "cell_id": "00002-042a372d-c00c-4c1f-ac93-787afa44b1e9",
    "deepnote_cell_type": "markdown",
    "deepnote_cell_height": 52.390625
   }
  },
  {
   "cell_type": "code",
   "metadata": {
    "colab_type": "code",
    "id": "Okcb8dnXeX2C",
    "colab": {},
    "cell_id": "00003-3853efa3-180b-4c70-8be9-3a18524779a8",
    "deepnote_to_be_reexecuted": false,
    "source_hash": "795e7fdf",
    "execution_start": 1657728495059,
    "execution_millis": 433,
    "deepnote_table_state": {
     "pageSize": 10,
     "pageIndex": 0,
     "filters": [],
     "sortBy": []
    },
    "deepnote_table_loading": false,
    "deepnote_cell_type": "code",
    "deepnote_cell_height": 973.734375
   },
   "source": "# Print out the age and class of the 100th patient\ndata = pd.read_csv(url)\ndata.columns = names\nprint(data)\ndata",
   "outputs": [
    {
     "name": "stdout",
     "text": "     preg  plas  pres  skin  test  mass   pedi  age  class\n0       1    85    66    29     0  26.6  0.351   31      0\n1       8   183    64     0     0  23.3  0.672   32      1\n2       1    89    66    23    94  28.1  0.167   21      0\n3       0   137    40    35   168  43.1  2.288   33      1\n4       5   116    74     0     0  25.6  0.201   30      0\n..    ...   ...   ...   ...   ...   ...    ...  ...    ...\n762    10   101    76    48   180  32.9  0.171   63      0\n763     2   122    70    27     0  36.8  0.340   27      0\n764     5   121    72    23   112  26.2  0.245   30      0\n765     1   126    60     0     0  30.1  0.349   47      1\n766     1    93    70    31     0  30.4  0.315   23      0\n\n[767 rows x 9 columns]\n",
     "output_type": "stream"
    },
    {
     "output_type": "execute_result",
     "execution_count": 6,
     "data": {
      "application/vnd.deepnote.dataframe.v3+json": {
       "column_count": 9,
       "row_count": 767,
       "columns": [
        {
         "name": "preg",
         "dtype": "int64",
         "stats": {
          "unique_count": 17,
          "nan_count": 0,
          "min": "0",
          "max": "17",
          "histogram": [
           {
            "bin_start": 0,
            "bin_end": 1.7,
            "count": 246
           },
           {
            "bin_start": 1.7,
            "bin_end": 3.4,
            "count": 178
           },
           {
            "bin_start": 3.4,
            "bin_end": 5.1,
            "count": 125
           },
           {
            "bin_start": 5.1,
            "bin_end": 6.8,
            "count": 49
           },
           {
            "bin_start": 6.8,
            "bin_end": 8.5,
            "count": 83
           },
           {
            "bin_start": 8.5,
            "bin_end": 10.2,
            "count": 52
           },
           {
            "bin_start": 10.2,
            "bin_end": 11.9,
            "count": 11
           },
           {
            "bin_start": 11.9,
            "bin_end": 13.6,
            "count": 19
           },
           {
            "bin_start": 13.6,
            "bin_end": 15.299999999999999,
            "count": 3
           },
           {
            "bin_start": 15.299999999999999,
            "bin_end": 17,
            "count": 1
           }
          ]
         }
        },
        {
         "name": "plas",
         "dtype": "int64",
         "stats": {
          "unique_count": 136,
          "nan_count": 0,
          "min": "0",
          "max": "199",
          "histogram": [
           {
            "bin_start": 0,
            "bin_end": 19.9,
            "count": 5
           },
           {
            "bin_start": 19.9,
            "bin_end": 39.8,
            "count": 0
           },
           {
            "bin_start": 39.8,
            "bin_end": 59.699999999999996,
            "count": 4
           },
           {
            "bin_start": 59.699999999999996,
            "bin_end": 79.6,
            "count": 32
           },
           {
            "bin_start": 79.6,
            "bin_end": 99.5,
            "count": 156
           },
           {
            "bin_start": 99.5,
            "bin_end": 119.39999999999999,
            "count": 211
           },
           {
            "bin_start": 119.39999999999999,
            "bin_end": 139.29999999999998,
            "count": 163
           },
           {
            "bin_start": 139.29999999999998,
            "bin_end": 159.2,
            "count": 94
           },
           {
            "bin_start": 159.2,
            "bin_end": 179.1,
            "count": 56
           },
           {
            "bin_start": 179.1,
            "bin_end": 199,
            "count": 46
           }
          ]
         }
        },
        {
         "name": "pres",
         "dtype": "int64",
         "stats": {
          "unique_count": 47,
          "nan_count": 0,
          "min": "0",
          "max": "122",
          "histogram": [
           {
            "bin_start": 0,
            "bin_end": 12.2,
            "count": 35
           },
           {
            "bin_start": 12.2,
            "bin_end": 24.4,
            "count": 1
           },
           {
            "bin_start": 24.4,
            "bin_end": 36.599999999999994,
            "count": 2
           },
           {
            "bin_start": 36.599999999999994,
            "bin_end": 48.8,
            "count": 13
           },
           {
            "bin_start": 48.8,
            "bin_end": 61,
            "count": 107
           },
           {
            "bin_start": 61,
            "bin_end": 73.19999999999999,
            "count": 260
           },
           {
            "bin_start": 73.19999999999999,
            "bin_end": 85.39999999999999,
            "count": 243
           },
           {
            "bin_start": 85.39999999999999,
            "bin_end": 97.6,
            "count": 87
           },
           {
            "bin_start": 97.6,
            "bin_end": 109.8,
            "count": 14
           },
           {
            "bin_start": 109.8,
            "bin_end": 122,
            "count": 5
           }
          ]
         }
        },
        {
         "name": "skin",
         "dtype": "int64",
         "stats": {
          "unique_count": 51,
          "nan_count": 0,
          "min": "0",
          "max": "99",
          "histogram": [
           {
            "bin_start": 0,
            "bin_end": 9.9,
            "count": 231
           },
           {
            "bin_start": 9.9,
            "bin_end": 19.8,
            "count": 107
           },
           {
            "bin_start": 19.8,
            "bin_end": 29.700000000000003,
            "count": 165
           },
           {
            "bin_start": 29.700000000000003,
            "bin_end": 39.6,
            "count": 174
           },
           {
            "bin_start": 39.6,
            "bin_end": 49.5,
            "count": 78
           },
           {
            "bin_start": 49.5,
            "bin_end": 59.400000000000006,
            "count": 9
           },
           {
            "bin_start": 59.400000000000006,
            "bin_end": 69.3,
            "count": 2
           },
           {
            "bin_start": 69.3,
            "bin_end": 79.2,
            "count": 0
           },
           {
            "bin_start": 79.2,
            "bin_end": 89.10000000000001,
            "count": 0
           },
           {
            "bin_start": 89.10000000000001,
            "bin_end": 99,
            "count": 1
           }
          ]
         }
        },
        {
         "name": "test",
         "dtype": "int64",
         "stats": {
          "unique_count": 186,
          "nan_count": 0,
          "min": "0",
          "max": "846",
          "histogram": [
           {
            "bin_start": 0,
            "bin_end": 84.6,
            "count": 486
           },
           {
            "bin_start": 84.6,
            "bin_end": 169.2,
            "count": 155
           },
           {
            "bin_start": 169.2,
            "bin_end": 253.79999999999998,
            "count": 70
           },
           {
            "bin_start": 253.79999999999998,
            "bin_end": 338.4,
            "count": 30
           },
           {
            "bin_start": 338.4,
            "bin_end": 423,
            "count": 8
           },
           {
            "bin_start": 423,
            "bin_end": 507.59999999999997,
            "count": 9
           },
           {
            "bin_start": 507.59999999999997,
            "bin_end": 592.1999999999999,
            "count": 5
           },
           {
            "bin_start": 592.1999999999999,
            "bin_end": 676.8,
            "count": 1
           },
           {
            "bin_start": 676.8,
            "bin_end": 761.4,
            "count": 2
           },
           {
            "bin_start": 761.4,
            "bin_end": 846,
            "count": 1
           }
          ]
         }
        },
        {
         "name": "mass",
         "dtype": "float64",
         "stats": {
          "unique_count": 248,
          "nan_count": 0,
          "min": "0.0",
          "max": "67.1",
          "histogram": [
           {
            "bin_start": 0,
            "bin_end": 6.709999999999999,
            "count": 11
           },
           {
            "bin_start": 6.709999999999999,
            "bin_end": 13.419999999999998,
            "count": 0
           },
           {
            "bin_start": 13.419999999999998,
            "bin_end": 20.129999999999995,
            "count": 15
           },
           {
            "bin_start": 20.129999999999995,
            "bin_end": 26.839999999999996,
            "count": 156
           },
           {
            "bin_start": 26.839999999999996,
            "bin_end": 33.55,
            "count": 268
           },
           {
            "bin_start": 33.55,
            "bin_end": 40.25999999999999,
            "count": 223
           },
           {
            "bin_start": 40.25999999999999,
            "bin_end": 46.96999999999999,
            "count": 78
           },
           {
            "bin_start": 46.96999999999999,
            "bin_end": 53.67999999999999,
            "count": 12
           },
           {
            "bin_start": 53.67999999999999,
            "bin_end": 60.38999999999999,
            "count": 3
           },
           {
            "bin_start": 60.38999999999999,
            "bin_end": 67.1,
            "count": 1
           }
          ]
         }
        },
        {
         "name": "pedi",
         "dtype": "float64",
         "stats": {
          "unique_count": 516,
          "nan_count": 0,
          "min": "0.078",
          "max": "2.42",
          "histogram": [
           {
            "bin_start": 0.078,
            "bin_end": 0.31220000000000003,
            "count": 318
           },
           {
            "bin_start": 0.31220000000000003,
            "bin_end": 0.5464,
            "count": 206
           },
           {
            "bin_start": 0.5464,
            "bin_end": 0.7806000000000001,
            "count": 135
           },
           {
            "bin_start": 0.7806000000000001,
            "bin_end": 1.0148000000000001,
            "count": 58
           },
           {
            "bin_start": 1.0148000000000001,
            "bin_end": 1.249,
            "count": 25
           },
           {
            "bin_start": 1.249,
            "bin_end": 1.4832000000000003,
            "count": 15
           },
           {
            "bin_start": 1.4832000000000003,
            "bin_end": 1.7174000000000003,
            "count": 3
           },
           {
            "bin_start": 1.7174000000000003,
            "bin_end": 1.9516000000000002,
            "count": 3
           },
           {
            "bin_start": 1.9516000000000002,
            "bin_end": 2.1858,
            "count": 1
           },
           {
            "bin_start": 2.1858,
            "bin_end": 2.42,
            "count": 3
           }
          ]
         }
        },
        {
         "name": "age",
         "dtype": "int64",
         "stats": {
          "unique_count": 52,
          "nan_count": 0,
          "min": "21",
          "max": "81",
          "histogram": [
           {
            "bin_start": 21,
            "bin_end": 27,
            "count": 300
           },
           {
            "bin_start": 27,
            "bin_end": 33,
            "count": 157
           },
           {
            "bin_start": 33,
            "bin_end": 39,
            "count": 92
           },
           {
            "bin_start": 39,
            "bin_end": 45,
            "count": 86
           },
           {
            "bin_start": 45,
            "bin_end": 51,
            "count": 51
           },
           {
            "bin_start": 51,
            "bin_end": 57,
            "count": 34
           },
           {
            "bin_start": 57,
            "bin_end": 63,
            "count": 26
           },
           {
            "bin_start": 63,
            "bin_end": 69,
            "count": 16
           },
           {
            "bin_start": 69,
            "bin_end": 75,
            "count": 4
           },
           {
            "bin_start": 75,
            "bin_end": 81,
            "count": 1
           }
          ]
         }
        },
        {
         "name": "class",
         "dtype": "int64",
         "stats": {
          "unique_count": 2,
          "nan_count": 0,
          "min": "0",
          "max": "1",
          "histogram": [
           {
            "bin_start": 0,
            "bin_end": 0.1,
            "count": 500
           },
           {
            "bin_start": 0.1,
            "bin_end": 0.2,
            "count": 0
           },
           {
            "bin_start": 0.2,
            "bin_end": 0.30000000000000004,
            "count": 0
           },
           {
            "bin_start": 0.30000000000000004,
            "bin_end": 0.4,
            "count": 0
           },
           {
            "bin_start": 0.4,
            "bin_end": 0.5,
            "count": 0
           },
           {
            "bin_start": 0.5,
            "bin_end": 0.6000000000000001,
            "count": 0
           },
           {
            "bin_start": 0.6000000000000001,
            "bin_end": 0.7000000000000001,
            "count": 0
           },
           {
            "bin_start": 0.7000000000000001,
            "bin_end": 0.8,
            "count": 0
           },
           {
            "bin_start": 0.8,
            "bin_end": 0.9,
            "count": 0
           },
           {
            "bin_start": 0.9,
            "bin_end": 1,
            "count": 267
           }
          ]
         }
        },
        {
         "name": "_deepnote_index_column",
         "dtype": "int64"
        }
       ],
       "rows": [
        {
         "preg": 1,
         "plas": 85,
         "pres": 66,
         "skin": 29,
         "test": 0,
         "mass": 26.6,
         "pedi": 0.351,
         "age": 31,
         "class": 0,
         "_deepnote_index_column": 0
        },
        {
         "preg": 8,
         "plas": 183,
         "pres": 64,
         "skin": 0,
         "test": 0,
         "mass": 23.3,
         "pedi": 0.672,
         "age": 32,
         "class": 1,
         "_deepnote_index_column": 1
        },
        {
         "preg": 1,
         "plas": 89,
         "pres": 66,
         "skin": 23,
         "test": 94,
         "mass": 28.1,
         "pedi": 0.167,
         "age": 21,
         "class": 0,
         "_deepnote_index_column": 2
        },
        {
         "preg": 0,
         "plas": 137,
         "pres": 40,
         "skin": 35,
         "test": 168,
         "mass": 43.1,
         "pedi": 2.288,
         "age": 33,
         "class": 1,
         "_deepnote_index_column": 3
        },
        {
         "preg": 5,
         "plas": 116,
         "pres": 74,
         "skin": 0,
         "test": 0,
         "mass": 25.6,
         "pedi": 0.201,
         "age": 30,
         "class": 0,
         "_deepnote_index_column": 4
        },
        {
         "preg": 3,
         "plas": 78,
         "pres": 50,
         "skin": 32,
         "test": 88,
         "mass": 31,
         "pedi": 0.248,
         "age": 26,
         "class": 1,
         "_deepnote_index_column": 5
        },
        {
         "preg": 10,
         "plas": 115,
         "pres": 0,
         "skin": 0,
         "test": 0,
         "mass": 35.3,
         "pedi": 0.134,
         "age": 29,
         "class": 0,
         "_deepnote_index_column": 6
        },
        {
         "preg": 2,
         "plas": 197,
         "pres": 70,
         "skin": 45,
         "test": 543,
         "mass": 30.5,
         "pedi": 0.158,
         "age": 53,
         "class": 1,
         "_deepnote_index_column": 7
        },
        {
         "preg": 8,
         "plas": 125,
         "pres": 96,
         "skin": 0,
         "test": 0,
         "mass": 0,
         "pedi": 0.232,
         "age": 54,
         "class": 1,
         "_deepnote_index_column": 8
        },
        {
         "preg": 4,
         "plas": 110,
         "pres": 92,
         "skin": 0,
         "test": 0,
         "mass": 37.6,
         "pedi": 0.191,
         "age": 30,
         "class": 0,
         "_deepnote_index_column": 9
        }
       ]
      },
      "text/plain": "     preg  plas  pres  skin  test  mass   pedi  age  class\n0       1    85    66    29     0  26.6  0.351   31      0\n1       8   183    64     0     0  23.3  0.672   32      1\n2       1    89    66    23    94  28.1  0.167   21      0\n3       0   137    40    35   168  43.1  2.288   33      1\n4       5   116    74     0     0  25.6  0.201   30      0\n..    ...   ...   ...   ...   ...   ...    ...  ...    ...\n762    10   101    76    48   180  32.9  0.171   63      0\n763     2   122    70    27     0  36.8  0.340   27      0\n764     5   121    72    23   112  26.2  0.245   30      0\n765     1   126    60     0     0  30.1  0.349   47      1\n766     1    93    70    31     0  30.4  0.315   23      0\n\n[767 rows x 9 columns]",
      "text/html": "<div>\n<style scoped>\n    .dataframe tbody tr th:only-of-type {\n        vertical-align: middle;\n    }\n\n    .dataframe tbody tr th {\n        vertical-align: top;\n    }\n\n    .dataframe thead th {\n        text-align: right;\n    }\n</style>\n<table border=\"1\" class=\"dataframe\">\n  <thead>\n    <tr style=\"text-align: right;\">\n      <th></th>\n      <th>preg</th>\n      <th>plas</th>\n      <th>pres</th>\n      <th>skin</th>\n      <th>test</th>\n      <th>mass</th>\n      <th>pedi</th>\n      <th>age</th>\n      <th>class</th>\n    </tr>\n  </thead>\n  <tbody>\n    <tr>\n      <th>0</th>\n      <td>1</td>\n      <td>85</td>\n      <td>66</td>\n      <td>29</td>\n      <td>0</td>\n      <td>26.6</td>\n      <td>0.351</td>\n      <td>31</td>\n      <td>0</td>\n    </tr>\n    <tr>\n      <th>1</th>\n      <td>8</td>\n      <td>183</td>\n      <td>64</td>\n      <td>0</td>\n      <td>0</td>\n      <td>23.3</td>\n      <td>0.672</td>\n      <td>32</td>\n      <td>1</td>\n    </tr>\n    <tr>\n      <th>2</th>\n      <td>1</td>\n      <td>89</td>\n      <td>66</td>\n      <td>23</td>\n      <td>94</td>\n      <td>28.1</td>\n      <td>0.167</td>\n      <td>21</td>\n      <td>0</td>\n    </tr>\n    <tr>\n      <th>3</th>\n      <td>0</td>\n      <td>137</td>\n      <td>40</td>\n      <td>35</td>\n      <td>168</td>\n      <td>43.1</td>\n      <td>2.288</td>\n      <td>33</td>\n      <td>1</td>\n    </tr>\n    <tr>\n      <th>4</th>\n      <td>5</td>\n      <td>116</td>\n      <td>74</td>\n      <td>0</td>\n      <td>0</td>\n      <td>25.6</td>\n      <td>0.201</td>\n      <td>30</td>\n      <td>0</td>\n    </tr>\n    <tr>\n      <th>...</th>\n      <td>...</td>\n      <td>...</td>\n      <td>...</td>\n      <td>...</td>\n      <td>...</td>\n      <td>...</td>\n      <td>...</td>\n      <td>...</td>\n      <td>...</td>\n    </tr>\n    <tr>\n      <th>762</th>\n      <td>10</td>\n      <td>101</td>\n      <td>76</td>\n      <td>48</td>\n      <td>180</td>\n      <td>32.9</td>\n      <td>0.171</td>\n      <td>63</td>\n      <td>0</td>\n    </tr>\n    <tr>\n      <th>763</th>\n      <td>2</td>\n      <td>122</td>\n      <td>70</td>\n      <td>27</td>\n      <td>0</td>\n      <td>36.8</td>\n      <td>0.340</td>\n      <td>27</td>\n      <td>0</td>\n    </tr>\n    <tr>\n      <th>764</th>\n      <td>5</td>\n      <td>121</td>\n      <td>72</td>\n      <td>23</td>\n      <td>112</td>\n      <td>26.2</td>\n      <td>0.245</td>\n      <td>30</td>\n      <td>0</td>\n    </tr>\n    <tr>\n      <th>765</th>\n      <td>1</td>\n      <td>126</td>\n      <td>60</td>\n      <td>0</td>\n      <td>0</td>\n      <td>30.1</td>\n      <td>0.349</td>\n      <td>47</td>\n      <td>1</td>\n    </tr>\n    <tr>\n      <th>766</th>\n      <td>1</td>\n      <td>93</td>\n      <td>70</td>\n      <td>31</td>\n      <td>0</td>\n      <td>30.4</td>\n      <td>0.315</td>\n      <td>23</td>\n      <td>0</td>\n    </tr>\n  </tbody>\n</table>\n<p>767 rows × 9 columns</p>\n</div>"
     },
     "metadata": {}
    }
   ],
   "execution_count": null
  },
  {
   "cell_type": "markdown",
   "source": "Print out the age and class of the 100th patient",
   "metadata": {
    "colab_type": "text",
    "id": "d4DyOsuoewE2",
    "cell_id": "00004-7ec9296d-24bf-4019-8f5a-c844c6b8cb1a",
    "deepnote_cell_type": "markdown",
    "deepnote_cell_height": 52.390625
   }
  },
  {
   "cell_type": "code",
   "metadata": {
    "colab_type": "code",
    "id": "xZqBsg39eY8_",
    "colab": {},
    "cell_id": "00005-0056ddb4-3287-41f8-834d-5ece93cf6909",
    "deepnote_to_be_reexecuted": false,
    "source_hash": "ddd8870a",
    "execution_start": 1657721425874,
    "execution_millis": 80516728,
    "deepnote_cell_type": "code",
    "deepnote_cell_height": 185.390625
   },
   "source": "age_hund = data[\"age\"][100]\nclass_hund = data[\"class\"][100]\nprint(\"Age: \", age_hund)\nprint(\"Class: \", class_hund)",
   "outputs": [
    {
     "name": "stdout",
     "text": "Age:  22\nClass:  0\n",
     "output_type": "stream"
    }
   ],
   "execution_count": null
  },
  {
   "cell_type": "markdown",
   "source": "Write code to figure out how many people are classified as not having diabetes, class is 0",
   "metadata": {
    "colab_type": "text",
    "id": "j8L2EM-5iOWc",
    "cell_id": "00006-82daaf2f-3e31-463a-9b7a-53799ab84fef",
    "deepnote_cell_type": "markdown",
    "deepnote_cell_height": 52.390625
   }
  },
  {
   "cell_type": "code",
   "metadata": {
    "colab_type": "code",
    "id": "vohzS51WiWvD",
    "colab": {},
    "cell_id": "00007-2d900e3b-23a6-403c-9bde-7e09d0510fcd",
    "deepnote_to_be_reexecuted": false,
    "source_hash": "297c2bc0",
    "execution_start": 1657721425983,
    "execution_millis": 80461442,
    "deepnote_cell_type": "code",
    "deepnote_cell_height": 129.6875
   },
   "source": "no_diabetes = (data[\"class\"] == 0).sum()\nprint(no_diabetes)",
   "outputs": [
    {
     "name": "stdout",
     "text": "500\n",
     "output_type": "stream"
    }
   ],
   "execution_count": null
  },
  {
   "cell_type": "markdown",
   "source": "Write code to figure out how many people are classified as having diabetes, class is 1",
   "metadata": {
    "colab_type": "text",
    "id": "ieGRz4iiiX4E",
    "cell_id": "00008-389ce810-0027-4af4-b4bf-a5bdc38c1573",
    "deepnote_cell_type": "markdown",
    "deepnote_cell_height": 52.390625
   }
  },
  {
   "cell_type": "code",
   "metadata": {
    "colab_type": "code",
    "id": "-jq2O-vriXRT",
    "colab": {},
    "cell_id": "00009-5eb55bcc-0b10-4a59-a3de-fad689a23fe1",
    "deepnote_to_be_reexecuted": false,
    "source_hash": "6cfdc95e",
    "execution_start": 1657721425984,
    "execution_millis": 80397190,
    "deepnote_cell_type": "code",
    "deepnote_cell_height": 129.6875
   },
   "source": "diabetes = (data[\"class\"]==1).sum()\nprint(diabetes)",
   "outputs": [
    {
     "name": "stdout",
     "text": "267\n",
     "output_type": "stream"
    }
   ],
   "execution_count": null
  },
  {
   "cell_type": "markdown",
   "source": "What percent of people have diabetes in the study",
   "metadata": {
    "colab_type": "text",
    "id": "oeFT7T9OnuSd",
    "cell_id": "00010-31b5f7c6-ea56-457b-ae9c-72ab86c5c567",
    "deepnote_cell_type": "markdown",
    "deepnote_cell_height": 52.390625
   }
  },
  {
   "cell_type": "code",
   "metadata": {
    "colab_type": "code",
    "id": "zGGHptFYnwq0",
    "colab": {},
    "cell_id": "00011-a33c8893-4cbc-42b5-898d-e3115c13e329",
    "deepnote_to_be_reexecuted": false,
    "source_hash": "4248f1b3",
    "execution_start": 1657721426029,
    "execution_millis": 80355796,
    "deepnote_cell_type": "code",
    "deepnote_cell_height": 129.6875
   },
   "source": "percent_diabetes = diabetes/(no_diabetes+diabetes)*100\nprint(percent_diabetes)",
   "outputs": [
    {
     "name": "stdout",
     "text": "34.8109517601043\n",
     "output_type": "stream"
    }
   ],
   "execution_count": null
  },
  {
   "cell_type": "markdown",
   "source": "Print out the `\"pres\"` and `\"class\"` (no other columns) for the first 5 people",
   "metadata": {
    "colab_type": "text",
    "id": "nbrjnRPafs0p",
    "cell_id": "00012-5080ee0d-b515-4ca1-954d-63144b849480",
    "deepnote_cell_type": "markdown",
    "deepnote_cell_height": 52.390625
   }
  },
  {
   "cell_type": "code",
   "metadata": {
    "colab_type": "code",
    "id": "GiNCJ19KfHJQ",
    "colab": {},
    "cell_id": "00013-52905732-b305-424f-98c1-182e4ababc0c",
    "deepnote_to_be_reexecuted": false,
    "source_hash": "dbb5a88",
    "execution_start": 1657721439545,
    "execution_millis": 60,
    "owner_user_id": "a9684883-38a1-43f5-9d3b-f17f2208dccb",
    "deepnote_cell_type": "code",
    "deepnote_cell_height": 395
   },
   "source": "data[[\"pres\", \"class\"]].head()",
   "outputs": [
    {
     "output_type": "execute_result",
     "execution_count": 16,
     "data": {
      "application/vnd.deepnote.dataframe.v3+json": {
       "column_count": 2,
       "row_count": 5,
       "columns": [
        {
         "name": "pres",
         "dtype": "int64",
         "stats": {
          "unique_count": 4,
          "nan_count": 0,
          "min": "40",
          "max": "74",
          "histogram": [
           {
            "bin_start": 40,
            "bin_end": 43.4,
            "count": 1
           },
           {
            "bin_start": 43.4,
            "bin_end": 46.8,
            "count": 0
           },
           {
            "bin_start": 46.8,
            "bin_end": 50.2,
            "count": 0
           },
           {
            "bin_start": 50.2,
            "bin_end": 53.6,
            "count": 0
           },
           {
            "bin_start": 53.6,
            "bin_end": 57,
            "count": 0
           },
           {
            "bin_start": 57,
            "bin_end": 60.4,
            "count": 0
           },
           {
            "bin_start": 60.4,
            "bin_end": 63.8,
            "count": 0
           },
           {
            "bin_start": 63.8,
            "bin_end": 67.2,
            "count": 3
           },
           {
            "bin_start": 67.2,
            "bin_end": 70.6,
            "count": 0
           },
           {
            "bin_start": 70.6,
            "bin_end": 74,
            "count": 1
           }
          ]
         }
        },
        {
         "name": "class",
         "dtype": "int64",
         "stats": {
          "unique_count": 2,
          "nan_count": 0,
          "min": "0",
          "max": "1",
          "histogram": [
           {
            "bin_start": 0,
            "bin_end": 0.1,
            "count": 3
           },
           {
            "bin_start": 0.1,
            "bin_end": 0.2,
            "count": 0
           },
           {
            "bin_start": 0.2,
            "bin_end": 0.30000000000000004,
            "count": 0
           },
           {
            "bin_start": 0.30000000000000004,
            "bin_end": 0.4,
            "count": 0
           },
           {
            "bin_start": 0.4,
            "bin_end": 0.5,
            "count": 0
           },
           {
            "bin_start": 0.5,
            "bin_end": 0.6000000000000001,
            "count": 0
           },
           {
            "bin_start": 0.6000000000000001,
            "bin_end": 0.7000000000000001,
            "count": 0
           },
           {
            "bin_start": 0.7000000000000001,
            "bin_end": 0.8,
            "count": 0
           },
           {
            "bin_start": 0.8,
            "bin_end": 0.9,
            "count": 0
           },
           {
            "bin_start": 0.9,
            "bin_end": 1,
            "count": 2
           }
          ]
         }
        },
        {
         "name": "_deepnote_index_column",
         "dtype": "int64"
        }
       ],
       "rows": [
        {
         "pres": 66,
         "class": 0,
         "_deepnote_index_column": 0
        },
        {
         "pres": 64,
         "class": 1,
         "_deepnote_index_column": 1
        },
        {
         "pres": 66,
         "class": 0,
         "_deepnote_index_column": 2
        },
        {
         "pres": 40,
         "class": 1,
         "_deepnote_index_column": 3
        },
        {
         "pres": 74,
         "class": 0,
         "_deepnote_index_column": 4
        }
       ]
      },
      "text/plain": "   pres  class\n0    66      0\n1    64      1\n2    66      0\n3    40      1\n4    74      0",
      "text/html": "<div>\n<style scoped>\n    .dataframe tbody tr th:only-of-type {\n        vertical-align: middle;\n    }\n\n    .dataframe tbody tr th {\n        vertical-align: top;\n    }\n\n    .dataframe thead th {\n        text-align: right;\n    }\n</style>\n<table border=\"1\" class=\"dataframe\">\n  <thead>\n    <tr style=\"text-align: right;\">\n      <th></th>\n      <th>pres</th>\n      <th>class</th>\n    </tr>\n  </thead>\n  <tbody>\n    <tr>\n      <th>0</th>\n      <td>66</td>\n      <td>0</td>\n    </tr>\n    <tr>\n      <th>1</th>\n      <td>64</td>\n      <td>1</td>\n    </tr>\n    <tr>\n      <th>2</th>\n      <td>66</td>\n      <td>0</td>\n    </tr>\n    <tr>\n      <th>3</th>\n      <td>40</td>\n      <td>1</td>\n    </tr>\n    <tr>\n      <th>4</th>\n      <td>74</td>\n      <td>0</td>\n    </tr>\n  </tbody>\n</table>\n</div>"
     },
     "metadata": {}
    }
   ],
   "execution_count": null
  },
  {
   "cell_type": "markdown",
   "source": "Run the cell below, it will print out the correlation among the columns",
   "metadata": {
    "colab_type": "text",
    "id": "O-CcsoqlhxUn",
    "cell_id": "00014-f3aad72a-9f72-4fb7-9d82-8d10b502d48a",
    "deepnote_cell_type": "markdown",
    "deepnote_cell_height": 52.390625
   }
  },
  {
   "cell_type": "code",
   "metadata": {
    "colab_type": "code",
    "id": "pXpVFt6MffQt",
    "colab": {},
    "cell_id": "00015-2172a85f-0f52-484b-a29e-5c3e48658917",
    "deepnote_to_be_reexecuted": false,
    "source_hash": "d0fc2601",
    "execution_start": 1657721426055,
    "execution_millis": 84,
    "deepnote_cell_type": "code",
    "deepnote_cell_height": 559
   },
   "source": "data.corr()",
   "outputs": [
    {
     "output_type": "execute_result",
     "execution_count": 8,
     "data": {
      "application/vnd.deepnote.dataframe.v3+json": {
       "column_count": 9,
       "row_count": 9,
       "columns": [
        {
         "name": "preg",
         "dtype": "float64",
         "stats": {
          "unique_count": 9,
          "nan_count": 0,
          "min": "-0.08249504933944397",
          "max": "1.0",
          "histogram": [
           {
            "bin_start": -0.08249504933944397,
            "bin_end": 0.02575445559450043,
            "count": 4
           },
           {
            "bin_start": 0.02575445559450043,
            "bin_end": 0.13400396052844482,
            "count": 1
           },
           {
            "bin_start": 0.13400396052844482,
            "bin_end": 0.24225346546238924,
            "count": 2
           },
           {
            "bin_start": 0.24225346546238924,
            "bin_end": 0.35050297039633366,
            "count": 0
           },
           {
            "bin_start": 0.35050297039633366,
            "bin_end": 0.4587524753302781,
            "count": 0
           },
           {
            "bin_start": 0.4587524753302781,
            "bin_end": 0.5670019802642224,
            "count": 1
           },
           {
            "bin_start": 0.5670019802642224,
            "bin_end": 0.6752514851981669,
            "count": 0
           },
           {
            "bin_start": 0.6752514851981669,
            "bin_end": 0.7835009901321113,
            "count": 0
           },
           {
            "bin_start": 0.7835009901321113,
            "bin_end": 0.8917504950660556,
            "count": 0
           },
           {
            "bin_start": 0.8917504950660556,
            "bin_end": 1,
            "count": 1
           }
          ]
         }
        },
        {
         "name": "plas",
         "dtype": "float64",
         "stats": {
          "unique_count": 9,
          "nan_count": 0,
          "min": "0.05638112882079316",
          "max": "1.0",
          "histogram": [
           {
            "bin_start": 0.05638112882079316,
            "bin_end": 0.15074301593871384,
            "count": 3
           },
           {
            "bin_start": 0.15074301593871384,
            "bin_end": 0.24510490305663452,
            "count": 2
           },
           {
            "bin_start": 0.24510490305663452,
            "bin_end": 0.33946679017455517,
            "count": 2
           },
           {
            "bin_start": 0.33946679017455517,
            "bin_end": 0.4338286772924759,
            "count": 0
           },
           {
            "bin_start": 0.4338286772924759,
            "bin_end": 0.5281905644103966,
            "count": 1
           },
           {
            "bin_start": 0.5281905644103966,
            "bin_end": 0.6225524515283172,
            "count": 0
           },
           {
            "bin_start": 0.6225524515283172,
            "bin_end": 0.7169143386462379,
            "count": 0
           },
           {
            "bin_start": 0.7169143386462379,
            "bin_end": 0.8112762257641586,
            "count": 0
           },
           {
            "bin_start": 0.8112762257641586,
            "bin_end": 0.9056381128820793,
            "count": 0
           },
           {
            "bin_start": 0.9056381128820793,
            "bin_end": 1,
            "count": 1
           }
          ]
         }
        },
        {
         "name": "pres",
         "dtype": "float64",
         "stats": {
          "unique_count": 9,
          "nan_count": 0,
          "min": "0.04118003922426516",
          "max": "1.0",
          "histogram": [
           {
            "bin_start": 0.04118003922426516,
            "bin_end": 0.13706203530183864,
            "count": 3
           },
           {
            "bin_start": 0.13706203530183864,
            "bin_end": 0.23294403137941214,
            "count": 3
           },
           {
            "bin_start": 0.23294403137941214,
            "bin_end": 0.32882602745698564,
            "count": 2
           },
           {
            "bin_start": 0.32882602745698564,
            "bin_end": 0.4247080235345591,
            "count": 0
           },
           {
            "bin_start": 0.4247080235345591,
            "bin_end": 0.5205900196121326,
            "count": 0
           },
           {
            "bin_start": 0.5205900196121326,
            "bin_end": 0.6164720156897061,
            "count": 0
           },
           {
            "bin_start": 0.6164720156897061,
            "bin_end": 0.7123540117672795,
            "count": 0
           },
           {
            "bin_start": 0.7123540117672795,
            "bin_end": 0.808236007844853,
            "count": 0
           },
           {
            "bin_start": 0.808236007844853,
            "bin_end": 0.9041180039224266,
            "count": 0
           },
           {
            "bin_start": 0.9041180039224266,
            "bin_end": 1,
            "count": 1
           }
          ]
         }
        },
        {
         "name": "skin",
         "dtype": "float64",
         "stats": {
          "unique_count": 9,
          "nan_count": 0,
          "min": "-0.1158728591822747",
          "max": "1.0",
          "histogram": [
           {
            "bin_start": -0.1158728591822747,
            "bin_end": -0.004285573264047243,
            "count": 2
           },
           {
            "bin_start": -0.004285573264047243,
            "bin_end": 0.10730171265418022,
            "count": 2
           },
           {
            "bin_start": 0.10730171265418022,
            "bin_end": 0.21888899857240768,
            "count": 2
           },
           {
            "bin_start": 0.21888899857240768,
            "bin_end": 0.33047628449063515,
            "count": 0
           },
           {
            "bin_start": 0.33047628449063515,
            "bin_end": 0.4420635704088626,
            "count": 2
           },
           {
            "bin_start": 0.4420635704088626,
            "bin_end": 0.55365085632709,
            "count": 0
           },
           {
            "bin_start": 0.55365085632709,
            "bin_end": 0.6652381422453175,
            "count": 0
           },
           {
            "bin_start": 0.6652381422453175,
            "bin_end": 0.7768254281635449,
            "count": 0
           },
           {
            "bin_start": 0.7768254281635449,
            "bin_end": 0.8884127140817725,
            "count": 0
           },
           {
            "bin_start": 0.8884127140817725,
            "bin_end": 1,
            "count": 1
           }
          ]
         }
        },
        {
         "name": "test",
         "dtype": "float64",
         "stats": {
          "unique_count": 9,
          "nan_count": 0,
          "min": "-0.07299883548219238",
          "max": "1.0",
          "histogram": [
           {
            "bin_start": -0.07299883548219238,
            "bin_end": 0.034301048066026865,
            "count": 2
           },
           {
            "bin_start": 0.034301048066026865,
            "bin_end": 0.1416009316142461,
            "count": 2
           },
           {
            "bin_start": 0.1416009316142461,
            "bin_end": 0.24890081516246537,
            "count": 2
           },
           {
            "bin_start": 0.24890081516246537,
            "bin_end": 0.3562006987106846,
            "count": 1
           },
           {
            "bin_start": 0.3562006987106846,
            "bin_end": 0.46350058225890384,
            "count": 1
           },
           {
            "bin_start": 0.46350058225890384,
            "bin_end": 0.5708004658071231,
            "count": 0
           },
           {
            "bin_start": 0.5708004658071231,
            "bin_end": 0.6781003493553424,
            "count": 0
           },
           {
            "bin_start": 0.6781003493553424,
            "bin_end": 0.7854002329035616,
            "count": 0
           },
           {
            "bin_start": 0.7854002329035616,
            "bin_end": 0.8927001164517809,
            "count": 0
           },
           {
            "bin_start": 0.8927001164517809,
            "bin_end": 1,
            "count": 1
           }
          ]
         }
        },
        {
         "name": "mass",
         "dtype": "float64",
         "stats": {
          "unique_count": 9,
          "nan_count": 0,
          "min": "0.017518025060902987",
          "max": "1.0",
          "histogram": [
           {
            "bin_start": 0.017518025060902987,
            "bin_end": 0.11576622255481268,
            "count": 2
           },
           {
            "bin_start": 0.11576622255481268,
            "bin_end": 0.2140144200487224,
            "count": 2
           },
           {
            "bin_start": 0.2140144200487224,
            "bin_end": 0.3122626175426321,
            "count": 3
           },
           {
            "bin_start": 0.3122626175426321,
            "bin_end": 0.4105108150365418,
            "count": 1
           },
           {
            "bin_start": 0.4105108150365418,
            "bin_end": 0.5087590125304514,
            "count": 0
           },
           {
            "bin_start": 0.5087590125304514,
            "bin_end": 0.6070072100243612,
            "count": 0
           },
           {
            "bin_start": 0.6070072100243612,
            "bin_end": 0.7052554075182709,
            "count": 0
           },
           {
            "bin_start": 0.7052554075182709,
            "bin_end": 0.8035036050121805,
            "count": 0
           },
           {
            "bin_start": 0.8035036050121805,
            "bin_end": 0.9017518025060902,
            "count": 0
           },
           {
            "bin_start": 0.9017518025060902,
            "bin_end": 1,
            "count": 1
           }
          ]
         }
        },
        {
         "name": "pedi",
         "dtype": "float64",
         "stats": {
          "unique_count": 9,
          "nan_count": 0,
          "min": "-0.033927471970847056",
          "max": "1.0",
          "histogram": [
           {
            "bin_start": -0.033927471970847056,
            "bin_end": 0.06946527522623766,
            "count": 3
           },
           {
            "bin_start": 0.06946527522623766,
            "bin_end": 0.17285802242332238,
            "count": 2
           },
           {
            "bin_start": 0.17285802242332238,
            "bin_end": 0.2762507696204071,
            "count": 3
           },
           {
            "bin_start": 0.2762507696204071,
            "bin_end": 0.3796435168174918,
            "count": 0
           },
           {
            "bin_start": 0.3796435168174918,
            "bin_end": 0.4830362640145765,
            "count": 0
           },
           {
            "bin_start": 0.4830362640145765,
            "bin_end": 0.5864290112116612,
            "count": 0
           },
           {
            "bin_start": 0.5864290112116612,
            "bin_end": 0.689821758408746,
            "count": 0
           },
           {
            "bin_start": 0.689821758408746,
            "bin_end": 0.7932145056058306,
            "count": 0
           },
           {
            "bin_start": 0.7932145056058306,
            "bin_end": 0.8966072528029154,
            "count": 0
           },
           {
            "bin_start": 0.8966072528029154,
            "bin_end": 1,
            "count": 1
           }
          ]
         }
        },
        {
         "name": "age",
         "dtype": "float64",
         "stats": {
          "unique_count": 9,
          "nan_count": 0,
          "min": "-0.1158728591822747",
          "max": "1.0",
          "histogram": [
           {
            "bin_start": -0.1158728591822747,
            "bin_end": -0.004285573264047243,
            "count": 2
           },
           {
            "bin_start": -0.004285573264047243,
            "bin_end": 0.10730171265418022,
            "count": 2
           },
           {
            "bin_start": 0.10730171265418022,
            "bin_end": 0.21888899857240768,
            "count": 0
           },
           {
            "bin_start": 0.21888899857240768,
            "bin_end": 0.33047628449063515,
            "count": 3
           },
           {
            "bin_start": 0.33047628449063515,
            "bin_end": 0.4420635704088626,
            "count": 0
           },
           {
            "bin_start": 0.4420635704088626,
            "bin_end": 0.55365085632709,
            "count": 1
           },
           {
            "bin_start": 0.55365085632709,
            "bin_end": 0.6652381422453175,
            "count": 0
           },
           {
            "bin_start": 0.6652381422453175,
            "bin_end": 0.7768254281635449,
            "count": 0
           },
           {
            "bin_start": 0.7768254281635449,
            "bin_end": 0.8884127140817725,
            "count": 0
           },
           {
            "bin_start": 0.8884127140817725,
            "bin_end": 1,
            "count": 1
           }
          ]
         }
        },
        {
         "name": "class",
         "dtype": "float64",
         "stats": {
          "unique_count": 9,
          "nan_count": 0,
          "min": "0.06488177904767517",
          "max": "1.0",
          "histogram": [
           {
            "bin_start": 0.06488177904767517,
            "bin_end": 0.15839360114290765,
            "count": 3
           },
           {
            "bin_start": 0.15839360114290765,
            "bin_end": 0.25190542323814014,
            "count": 3
           },
           {
            "bin_start": 0.25190542323814014,
            "bin_end": 0.34541724533337265,
            "count": 1
           },
           {
            "bin_start": 0.34541724533337265,
            "bin_end": 0.4389290674286051,
            "count": 0
           },
           {
            "bin_start": 0.4389290674286051,
            "bin_end": 0.5324408895238375,
            "count": 1
           },
           {
            "bin_start": 0.5324408895238375,
            "bin_end": 0.6259527116190702,
            "count": 0
           },
           {
            "bin_start": 0.6259527116190702,
            "bin_end": 0.7194645337143026,
            "count": 0
           },
           {
            "bin_start": 0.7194645337143026,
            "bin_end": 0.8129763558095351,
            "count": 0
           },
           {
            "bin_start": 0.8129763558095351,
            "bin_end": 0.9064881779047675,
            "count": 0
           },
           {
            "bin_start": 0.9064881779047675,
            "bin_end": 1,
            "count": 1
           }
          ]
         }
        },
        {
         "name": "_deepnote_index_column",
         "dtype": "object"
        }
       ],
       "rows": [
        {
         "preg": 1,
         "plas": 0.12884571831523273,
         "pres": 0.14119688546713502,
         "skin": -0.08249504933944397,
         "test": -0.07299883548219238,
         "mass": 0.017518025060902987,
         "pedi": -0.033927471970847056,
         "age": 0.5440181374395497,
         "class": 0.2210865280756295,
         "_deepnote_index_column": "preg"
        },
        {
         "preg": 0.12884571831523273,
         "plas": 1,
         "pres": 0.15249786357400735,
         "skin": 0.05638112882079316,
         "test": 0.33238342971312745,
         "mass": 0.22095509998436502,
         "pedi": 0.13690295573006997,
         "age": 0.2624081766852211,
         "class": 0.4658559385379985,
         "_deepnote_index_column": "plas"
        },
        {
         "preg": 0.14119688546713502,
         "plas": 0.15249786357400735,
         "pres": 1,
         "skin": 0.207307826179924,
         "test": 0.08909775002967421,
         "mass": 0.2817772447500641,
         "pedi": 0.04118003922426516,
         "age": 0.23957101390158442,
         "class": 0.06488177904767517,
         "_deepnote_index_column": "pres"
        },
        {
         "preg": -0.08249504933944397,
         "plas": 0.05638112882079316,
         "pres": 0.207307826179924,
         "skin": 1,
         "test": 0.4379742769264145,
         "mass": 0.39255322579417173,
         "pedi": 0.18349813612676866,
         "age": -0.1158728591822747,
         "class": 0.07326497576626446,
         "_deepnote_index_column": "skin"
        },
        {
         "preg": -0.07299883548219238,
         "plas": 0.33238342971312745,
         "pres": 0.08909775002967421,
         "skin": 0.4379742769264145,
         "test": 1,
         "mass": 0.19811074327398054,
         "pedi": 0.18557879035103855,
         "age": -0.04094184946439129,
         "class": 0.13198375600374387,
         "_deepnote_index_column": "test"
        },
        {
         "preg": 0.017518025060902987,
         "plas": 0.22095509998436502,
         "pres": 0.2817772447500641,
         "skin": 0.39255322579417173,
         "test": 0.19811074327398054,
         "mass": 1,
         "pedi": 0.14054626298891099,
         "age": 0.03591118083139819,
         "class": 0.29269547971818727,
         "_deepnote_index_column": "mass"
        },
        {
         "preg": -0.033927471970847056,
         "plas": 0.13690295573006997,
         "pres": 0.04118003922426516,
         "skin": 0.18349813612676866,
         "test": 0.18557879035103855,
         "mass": 0.14054626298891099,
         "pedi": 1,
         "age": 0.032738403869163886,
         "class": 0.17324535270149716,
         "_deepnote_index_column": "pedi"
        },
        {
         "preg": 0.5440181374395497,
         "plas": 0.2624081766852211,
         "pres": 0.23957101390158442,
         "skin": -0.1158728591822747,
         "test": -0.04094184946439129,
         "mass": 0.03591118083139819,
         "pedi": 0.032738403869163886,
         "age": 1,
         "class": 0.23641745829787272,
         "_deepnote_index_column": "age"
        },
        {
         "preg": 0.2210865280756295,
         "plas": 0.4658559385379985,
         "pres": 0.06488177904767517,
         "skin": 0.07326497576626446,
         "test": 0.13198375600374387,
         "mass": 0.29269547971818727,
         "pedi": 0.17324535270149716,
         "age": 0.23641745829787272,
         "class": 1,
         "_deepnote_index_column": "class"
        }
       ]
      },
      "text/plain": "           preg      plas      pres      skin      test      mass      pedi  \\\npreg   1.000000  0.128846  0.141197 -0.082495 -0.072999  0.017518 -0.033927   \nplas   0.128846  1.000000  0.152498  0.056381  0.332383  0.220955  0.136903   \npres   0.141197  0.152498  1.000000  0.207308  0.089098  0.281777  0.041180   \nskin  -0.082495  0.056381  0.207308  1.000000  0.437974  0.392553  0.183498   \ntest  -0.072999  0.332383  0.089098  0.437974  1.000000  0.198111  0.185579   \nmass   0.017518  0.220955  0.281777  0.392553  0.198111  1.000000  0.140546   \npedi  -0.033927  0.136903  0.041180  0.183498  0.185579  0.140546  1.000000   \nage    0.544018  0.262408  0.239571 -0.115873 -0.040942  0.035911  0.032738   \nclass  0.221087  0.465856  0.064882  0.073265  0.131984  0.292695  0.173245   \n\n            age     class  \npreg   0.544018  0.221087  \nplas   0.262408  0.465856  \npres   0.239571  0.064882  \nskin  -0.115873  0.073265  \ntest  -0.040942  0.131984  \nmass   0.035911  0.292695  \npedi   0.032738  0.173245  \nage    1.000000  0.236417  \nclass  0.236417  1.000000  ",
      "text/html": "<div>\n<style scoped>\n    .dataframe tbody tr th:only-of-type {\n        vertical-align: middle;\n    }\n\n    .dataframe tbody tr th {\n        vertical-align: top;\n    }\n\n    .dataframe thead th {\n        text-align: right;\n    }\n</style>\n<table border=\"1\" class=\"dataframe\">\n  <thead>\n    <tr style=\"text-align: right;\">\n      <th></th>\n      <th>preg</th>\n      <th>plas</th>\n      <th>pres</th>\n      <th>skin</th>\n      <th>test</th>\n      <th>mass</th>\n      <th>pedi</th>\n      <th>age</th>\n      <th>class</th>\n    </tr>\n  </thead>\n  <tbody>\n    <tr>\n      <th>preg</th>\n      <td>1.000000</td>\n      <td>0.128846</td>\n      <td>0.141197</td>\n      <td>-0.082495</td>\n      <td>-0.072999</td>\n      <td>0.017518</td>\n      <td>-0.033927</td>\n      <td>0.544018</td>\n      <td>0.221087</td>\n    </tr>\n    <tr>\n      <th>plas</th>\n      <td>0.128846</td>\n      <td>1.000000</td>\n      <td>0.152498</td>\n      <td>0.056381</td>\n      <td>0.332383</td>\n      <td>0.220955</td>\n      <td>0.136903</td>\n      <td>0.262408</td>\n      <td>0.465856</td>\n    </tr>\n    <tr>\n      <th>pres</th>\n      <td>0.141197</td>\n      <td>0.152498</td>\n      <td>1.000000</td>\n      <td>0.207308</td>\n      <td>0.089098</td>\n      <td>0.281777</td>\n      <td>0.041180</td>\n      <td>0.239571</td>\n      <td>0.064882</td>\n    </tr>\n    <tr>\n      <th>skin</th>\n      <td>-0.082495</td>\n      <td>0.056381</td>\n      <td>0.207308</td>\n      <td>1.000000</td>\n      <td>0.437974</td>\n      <td>0.392553</td>\n      <td>0.183498</td>\n      <td>-0.115873</td>\n      <td>0.073265</td>\n    </tr>\n    <tr>\n      <th>test</th>\n      <td>-0.072999</td>\n      <td>0.332383</td>\n      <td>0.089098</td>\n      <td>0.437974</td>\n      <td>1.000000</td>\n      <td>0.198111</td>\n      <td>0.185579</td>\n      <td>-0.040942</td>\n      <td>0.131984</td>\n    </tr>\n    <tr>\n      <th>mass</th>\n      <td>0.017518</td>\n      <td>0.220955</td>\n      <td>0.281777</td>\n      <td>0.392553</td>\n      <td>0.198111</td>\n      <td>1.000000</td>\n      <td>0.140546</td>\n      <td>0.035911</td>\n      <td>0.292695</td>\n    </tr>\n    <tr>\n      <th>pedi</th>\n      <td>-0.033927</td>\n      <td>0.136903</td>\n      <td>0.041180</td>\n      <td>0.183498</td>\n      <td>0.185579</td>\n      <td>0.140546</td>\n      <td>1.000000</td>\n      <td>0.032738</td>\n      <td>0.173245</td>\n    </tr>\n    <tr>\n      <th>age</th>\n      <td>0.544018</td>\n      <td>0.262408</td>\n      <td>0.239571</td>\n      <td>-0.115873</td>\n      <td>-0.040942</td>\n      <td>0.035911</td>\n      <td>0.032738</td>\n      <td>1.000000</td>\n      <td>0.236417</td>\n    </tr>\n    <tr>\n      <th>class</th>\n      <td>0.221087</td>\n      <td>0.465856</td>\n      <td>0.064882</td>\n      <td>0.073265</td>\n      <td>0.131984</td>\n      <td>0.292695</td>\n      <td>0.173245</td>\n      <td>0.236417</td>\n      <td>1.000000</td>\n    </tr>\n  </tbody>\n</table>\n</div>"
     },
     "metadata": {}
    }
   ],
   "execution_count": null
  },
  {
   "cell_type": "markdown",
   "source": "What column has the highest correlation with class? Find the mean() value of that column",
   "metadata": {
    "colab_type": "text",
    "id": "P_7xRF11h4Uf",
    "cell_id": "00016-c6dc3dd2-3401-45f6-82f1-9b8d3db94077",
    "deepnote_cell_type": "markdown",
    "deepnote_cell_height": 52.390625
   }
  },
  {
   "cell_type": "code",
   "metadata": {
    "colab_type": "code",
    "id": "clb2Gh8Mn9d4",
    "colab": {},
    "cell_id": "00017-b1dcf134-97de-42fa-ac10-96fe97db8e2c",
    "deepnote_to_be_reexecuted": false,
    "source_hash": "96daf4",
    "execution_start": 1657721426145,
    "execution_millis": 7,
    "deepnote_cell_type": "code",
    "deepnote_cell_height": 147.6875
   },
   "source": "# highest correlation = plas\nplas_mean = data[\"plas\"].mean()\nprint(plas_mean)",
   "outputs": [
    {
     "name": "stdout",
     "text": "120.85919165580182\n",
     "output_type": "stream"
    }
   ],
   "execution_count": null
  },
  {
   "cell_type": "markdown",
   "source": "Create a new dataframe with only people that are above the mean found in the above cell.",
   "metadata": {
    "colab_type": "text",
    "id": "64yWhAARoWw-",
    "cell_id": "00018-fd63fcb2-c10a-4a26-b428-e30348fe833a",
    "deepnote_cell_type": "markdown",
    "deepnote_cell_height": 52.390625
   }
  },
  {
   "cell_type": "code",
   "metadata": {
    "colab_type": "code",
    "id": "HRLjs3agkdPY",
    "colab": {},
    "cell_id": "00019-8b938a90-7bd5-4ba2-92f1-4df4ffc190e0",
    "deepnote_to_be_reexecuted": false,
    "source_hash": "b165cb7a",
    "execution_start": 1657721426156,
    "execution_millis": 22,
    "deepnote_cell_type": "code",
    "deepnote_cell_height": 385.734375
   },
   "source": "data_edited_by_plas = data[data[\"plas\"] > plas_mean]\nprint(data_edited_by_plas)",
   "outputs": [
    {
     "name": "stdout",
     "text": "     preg  plas  pres  skin  test  mass   pedi  age  class\n1       8   183    64     0     0  23.3  0.672   32      1\n3       0   137    40    35   168  43.1  2.288   33      1\n7       2   197    70    45   543  30.5  0.158   53      1\n8       8   125    96     0     0   0.0  0.232   54      1\n10     10   168    74     0     0  38.0  0.537   34      1\n..    ...   ...   ...   ...   ...   ...    ...  ...    ...\n758     6   190    92     0     0  35.5  0.278   66      1\n760     9   170    74    31     0  44.0  0.403   43      1\n763     2   122    70    27     0  36.8  0.340   27      0\n764     5   121    72    23   112  26.2  0.245   30      0\n765     1   126    60     0     0  30.1  0.349   47      1\n\n[348 rows x 9 columns]\n",
     "output_type": "stream"
    }
   ],
   "execution_count": null
  },
  {
   "cell_type": "markdown",
   "source": "Create a new dataframe that only includes people who are above the average value for each column in the dataset. In other words, find the average value for each column, and then find which users have values above all of these average column values.",
   "metadata": {
    "colab_type": "text",
    "id": "RxGIQp0JrUnq",
    "cell_id": "00020-d5d0c3ea-9655-4aa2-97dd-4bf3a09e357f",
    "deepnote_cell_type": "markdown",
    "deepnote_cell_height": 97.1875
   }
  },
  {
   "cell_type": "code",
   "metadata": {
    "colab_type": "code",
    "id": "Ylf4p6NNrfME",
    "colab": {},
    "cell_id": "00021-064e8e41-d624-434c-a65a-392e463c840e",
    "deepnote_to_be_reexecuted": false,
    "source_hash": "28943e35",
    "execution_start": 1657721426180,
    "execution_millis": 14,
    "deepnote_cell_type": "code",
    "deepnote_cell_height": 646.203125
   },
   "source": "preg_mean = data[\"preg\"].mean()\npres_mean = data[\"pres\"].mean()\nskin_mean = data[\"skin\"].mean()\ntest_mean = data[\"test\"].mean()\nmass_mean = data[\"mass\"].mean()\npedi_mean = data[\"pedi\"].mean()\nage_mean = data[\"age\"].mean()\nclass_mean = data[\"class\"].mean()\n\ndata_above_avg = data[(data[\"plas\"] > plas_mean) & (data[\"preg\"] > preg_mean) & (data[\"skin\"] > skin_mean) & (data[\"test\"] > test_mean) & (data[\"mass\"] > mass_mean) & (data[\"pedi\"] > pedi_mean) & (data[\"age\"] > age_mean) & (data[\"class\"] > class_mean)]\nprint(data_above_avg)",
   "outputs": [
    {
     "name": "stdout",
     "text": "     preg  plas  pres  skin  test  mass   pedi  age  class\n42      9   171   110    24   240  45.4  0.721   54      1\n110     8   155    62    26   495  34.0  0.543   46      1\n151     9   156    86    28   155  34.3  1.189   42      1\n158    17   163    72    41   114  40.9  0.817   47      1\n174     8   179    72    42   130  32.7  0.719   36      1\n205     8   196    76    29   280  37.5  0.605   57      1\n214    12   151    70    40   271  41.8  0.742   38      1\n235     7   181    84    21   192  35.9  0.586   51      1\n258    11   155    76    28   150  33.3  1.353   51      1\n374    12   140    82    43   325  39.2  0.528   58      1\n423     8   151    78    32   210  42.9  0.516   36      1\n457    10   148    84    48   237  37.6  1.001   51      1\n545     5   187    76    27   207  43.6  1.034   53      1\n602     7   150    78    29   126  35.2  0.692   54      1\n611     7   168    88    42   321  38.2  0.787   40      1\n613    11   138    74    26   144  36.1  0.557   50      1\n662     9   145    80    46   130  37.9  0.637   40      1\n714     7   187    50    33   392  33.9  0.826   34      1\n",
     "output_type": "stream"
    }
   ],
   "execution_count": null
  },
  {
   "cell_type": "markdown",
   "source": "*Note: the next 3 problems were not explicitly shown in our tutorial—being able to effectively google and look through documentation is a very important coding tool!* ¯\\\\\\_(ツ)_/¯",
   "metadata": {
    "id": "Cy_6ce7_8qAB",
    "colab_type": "text",
    "cell_id": "00022-a1b28b03-6953-469c-a45d-80d21b3d36f6",
    "deepnote_cell_type": "markdown",
    "deepnote_cell_height": 74.796875
   }
  },
  {
   "cell_type": "markdown",
   "source": "Ignoring the index (resetting the index to 0) and using the dataframe from the cell above, sort the values based on `\"skin\"`, `\"test\"`, and `\"pedi\"` values in ascending order. Please write this in one line.",
   "metadata": {
    "colab_type": "text",
    "id": "24pCgP2xbCwZ",
    "cell_id": "00023-818ed759-16d8-4469-8fcb-19c412faa4c9",
    "deepnote_cell_type": "markdown",
    "deepnote_cell_height": 74.796875
   }
  },
  {
   "cell_type": "code",
   "metadata": {
    "colab_type": "code",
    "id": "wXZysbVwa7i5",
    "colab": {},
    "cell_id": "00024-1c8fa3ef-1628-44ef-bef7-554c548fea45",
    "deepnote_to_be_reexecuted": false,
    "source_hash": "fd2483d5",
    "execution_start": 1657721426251,
    "execution_millis": 18,
    "deepnote_cell_type": "code",
    "deepnote_cell_height": 618
   },
   "source": "sample = data_above_avg.sort_values(['skin', 'test', 'pedi'], ascending=[True, True, True], na_position='first')\nsample",
   "outputs": [
    {
     "output_type": "execute_result",
     "execution_count": 12,
     "data": {
      "application/vnd.deepnote.dataframe.v3+json": {
       "column_count": 9,
       "row_count": 18,
       "columns": [
        {
         "name": "preg",
         "dtype": "int64",
         "stats": {
          "unique_count": 8,
          "nan_count": 0,
          "min": "5",
          "max": "17",
          "histogram": [
           {
            "bin_start": 5,
            "bin_end": 6.2,
            "count": 1
           },
           {
            "bin_start": 6.2,
            "bin_end": 7.4,
            "count": 4
           },
           {
            "bin_start": 7.4,
            "bin_end": 8.6,
            "count": 4
           },
           {
            "bin_start": 8.6,
            "bin_end": 9.8,
            "count": 3
           },
           {
            "bin_start": 9.8,
            "bin_end": 11,
            "count": 1
           },
           {
            "bin_start": 11,
            "bin_end": 12.2,
            "count": 4
           },
           {
            "bin_start": 12.2,
            "bin_end": 13.4,
            "count": 0
           },
           {
            "bin_start": 13.4,
            "bin_end": 14.6,
            "count": 0
           },
           {
            "bin_start": 14.6,
            "bin_end": 15.799999999999999,
            "count": 0
           },
           {
            "bin_start": 15.799999999999999,
            "bin_end": 17,
            "count": 1
           }
          ]
         }
        },
        {
         "name": "plas",
         "dtype": "int64",
         "stats": {
          "unique_count": 15,
          "nan_count": 0,
          "min": "138",
          "max": "196",
          "histogram": [
           {
            "bin_start": 138,
            "bin_end": 143.8,
            "count": 2
           },
           {
            "bin_start": 143.8,
            "bin_end": 149.6,
            "count": 2
           },
           {
            "bin_start": 149.6,
            "bin_end": 155.4,
            "count": 5
           },
           {
            "bin_start": 155.4,
            "bin_end": 161.2,
            "count": 1
           },
           {
            "bin_start": 161.2,
            "bin_end": 167,
            "count": 1
           },
           {
            "bin_start": 167,
            "bin_end": 172.8,
            "count": 2
           },
           {
            "bin_start": 172.8,
            "bin_end": 178.6,
            "count": 0
           },
           {
            "bin_start": 178.6,
            "bin_end": 184.4,
            "count": 2
           },
           {
            "bin_start": 184.4,
            "bin_end": 190.2,
            "count": 2
           },
           {
            "bin_start": 190.2,
            "bin_end": 196,
            "count": 1
           }
          ]
         }
        },
        {
         "name": "pres",
         "dtype": "int64",
         "stats": {
          "unique_count": 13,
          "nan_count": 0,
          "min": "50",
          "max": "110",
          "histogram": [
           {
            "bin_start": 50,
            "bin_end": 56,
            "count": 1
           },
           {
            "bin_start": 56,
            "bin_end": 62,
            "count": 0
           },
           {
            "bin_start": 62,
            "bin_end": 68,
            "count": 1
           },
           {
            "bin_start": 68,
            "bin_end": 74,
            "count": 3
           },
           {
            "bin_start": 74,
            "bin_end": 80,
            "count": 6
           },
           {
            "bin_start": 80,
            "bin_end": 86,
            "count": 4
           },
           {
            "bin_start": 86,
            "bin_end": 92,
            "count": 2
           },
           {
            "bin_start": 92,
            "bin_end": 98,
            "count": 0
           },
           {
            "bin_start": 98,
            "bin_end": 104,
            "count": 0
           },
           {
            "bin_start": 104,
            "bin_end": 110,
            "count": 1
           }
          ]
         }
        },
        {
         "name": "skin",
         "dtype": "int64",
         "stats": {
          "unique_count": 14,
          "nan_count": 0,
          "min": "21",
          "max": "48",
          "histogram": [
           {
            "bin_start": 21,
            "bin_end": 23.7,
            "count": 1
           },
           {
            "bin_start": 23.7,
            "bin_end": 26.4,
            "count": 3
           },
           {
            "bin_start": 26.4,
            "bin_end": 29.1,
            "count": 5
           },
           {
            "bin_start": 29.1,
            "bin_end": 31.8,
            "count": 0
           },
           {
            "bin_start": 31.8,
            "bin_end": 34.5,
            "count": 2
           },
           {
            "bin_start": 34.5,
            "bin_end": 37.2,
            "count": 0
           },
           {
            "bin_start": 37.2,
            "bin_end": 39.900000000000006,
            "count": 0
           },
           {
            "bin_start": 39.900000000000006,
            "bin_end": 42.6,
            "count": 4
           },
           {
            "bin_start": 42.6,
            "bin_end": 45.3,
            "count": 1
           },
           {
            "bin_start": 45.3,
            "bin_end": 48,
            "count": 2
           }
          ]
         }
        },
        {
         "name": "test",
         "dtype": "int64",
         "stats": {
          "unique_count": 17,
          "nan_count": 0,
          "min": "114",
          "max": "495",
          "histogram": [
           {
            "bin_start": 114,
            "bin_end": 152.1,
            "count": 6
           },
           {
            "bin_start": 152.1,
            "bin_end": 190.2,
            "count": 1
           },
           {
            "bin_start": 190.2,
            "bin_end": 228.3,
            "count": 3
           },
           {
            "bin_start": 228.3,
            "bin_end": 266.4,
            "count": 2
           },
           {
            "bin_start": 266.4,
            "bin_end": 304.5,
            "count": 2
           },
           {
            "bin_start": 304.5,
            "bin_end": 342.6,
            "count": 2
           },
           {
            "bin_start": 342.6,
            "bin_end": 380.7,
            "count": 0
           },
           {
            "bin_start": 380.7,
            "bin_end": 418.8,
            "count": 1
           },
           {
            "bin_start": 418.8,
            "bin_end": 456.90000000000003,
            "count": 0
           },
           {
            "bin_start": 456.90000000000003,
            "bin_end": 495,
            "count": 1
           }
          ]
         }
        },
        {
         "name": "mass",
         "dtype": "float64",
         "stats": {
          "unique_count": 18,
          "nan_count": 0,
          "min": "32.7",
          "max": "45.4",
          "histogram": [
           {
            "bin_start": 32.7,
            "bin_end": 33.97,
            "count": 3
           },
           {
            "bin_start": 33.97,
            "bin_end": 35.24,
            "count": 3
           },
           {
            "bin_start": 35.24,
            "bin_end": 36.510000000000005,
            "count": 2
           },
           {
            "bin_start": 36.510000000000005,
            "bin_end": 37.78,
            "count": 2
           },
           {
            "bin_start": 37.78,
            "bin_end": 39.05,
            "count": 2
           },
           {
            "bin_start": 39.05,
            "bin_end": 40.32,
            "count": 1
           },
           {
            "bin_start": 40.32,
            "bin_end": 41.59,
            "count": 1
           },
           {
            "bin_start": 41.59,
            "bin_end": 42.86,
            "count": 1
           },
           {
            "bin_start": 42.86,
            "bin_end": 44.129999999999995,
            "count": 2
           },
           {
            "bin_start": 44.129999999999995,
            "bin_end": 45.4,
            "count": 1
           }
          ]
         }
        },
        {
         "name": "pedi",
         "dtype": "float64",
         "stats": {
          "unique_count": 18,
          "nan_count": 0,
          "min": "0.516",
          "max": "1.353",
          "histogram": [
           {
            "bin_start": 0.516,
            "bin_end": 0.5997,
            "count": 5
           },
           {
            "bin_start": 0.5997,
            "bin_end": 0.6834,
            "count": 2
           },
           {
            "bin_start": 0.6834,
            "bin_end": 0.7671,
            "count": 4
           },
           {
            "bin_start": 0.7671,
            "bin_end": 0.8508,
            "count": 3
           },
           {
            "bin_start": 0.8508,
            "bin_end": 0.9345,
            "count": 0
           },
           {
            "bin_start": 0.9345,
            "bin_end": 1.0182,
            "count": 1
           },
           {
            "bin_start": 1.0182,
            "bin_end": 1.1019,
            "count": 1
           },
           {
            "bin_start": 1.1019,
            "bin_end": 1.1856,
            "count": 0
           },
           {
            "bin_start": 1.1856,
            "bin_end": 1.2692999999999999,
            "count": 1
           },
           {
            "bin_start": 1.2692999999999999,
            "bin_end": 1.353,
            "count": 1
           }
          ]
         }
        },
        {
         "name": "age",
         "dtype": "int64",
         "stats": {
          "unique_count": 13,
          "nan_count": 0,
          "min": "34",
          "max": "58",
          "histogram": [
           {
            "bin_start": 34,
            "bin_end": 36.4,
            "count": 3
           },
           {
            "bin_start": 36.4,
            "bin_end": 38.8,
            "count": 1
           },
           {
            "bin_start": 38.8,
            "bin_end": 41.2,
            "count": 2
           },
           {
            "bin_start": 41.2,
            "bin_end": 43.6,
            "count": 1
           },
           {
            "bin_start": 43.6,
            "bin_end": 46,
            "count": 0
           },
           {
            "bin_start": 46,
            "bin_end": 48.4,
            "count": 2
           },
           {
            "bin_start": 48.4,
            "bin_end": 50.8,
            "count": 1
           },
           {
            "bin_start": 50.8,
            "bin_end": 53.2,
            "count": 4
           },
           {
            "bin_start": 53.2,
            "bin_end": 55.599999999999994,
            "count": 2
           },
           {
            "bin_start": 55.599999999999994,
            "bin_end": 58,
            "count": 2
           }
          ]
         }
        },
        {
         "name": "class",
         "dtype": "int64",
         "stats": {
          "unique_count": 1,
          "nan_count": 0,
          "min": "1",
          "max": "1",
          "histogram": [
           {
            "bin_start": 0.5,
            "bin_end": 0.6,
            "count": 0
           },
           {
            "bin_start": 0.6,
            "bin_end": 0.7,
            "count": 0
           },
           {
            "bin_start": 0.7,
            "bin_end": 0.8,
            "count": 0
           },
           {
            "bin_start": 0.8,
            "bin_end": 0.9,
            "count": 0
           },
           {
            "bin_start": 0.9,
            "bin_end": 1,
            "count": 0
           },
           {
            "bin_start": 1,
            "bin_end": 1.1,
            "count": 18
           },
           {
            "bin_start": 1.1,
            "bin_end": 1.2000000000000002,
            "count": 0
           },
           {
            "bin_start": 1.2000000000000002,
            "bin_end": 1.3,
            "count": 0
           },
           {
            "bin_start": 1.3,
            "bin_end": 1.4,
            "count": 0
           },
           {
            "bin_start": 1.4,
            "bin_end": 1.5,
            "count": 0
           }
          ]
         }
        },
        {
         "name": "_deepnote_index_column",
         "dtype": "int64"
        }
       ],
       "rows": [
        {
         "preg": 7,
         "plas": 181,
         "pres": 84,
         "skin": 21,
         "test": 192,
         "mass": 35.9,
         "pedi": 0.586,
         "age": 51,
         "class": 1,
         "_deepnote_index_column": 235
        },
        {
         "preg": 9,
         "plas": 171,
         "pres": 110,
         "skin": 24,
         "test": 240,
         "mass": 45.4,
         "pedi": 0.721,
         "age": 54,
         "class": 1,
         "_deepnote_index_column": 42
        },
        {
         "preg": 11,
         "plas": 138,
         "pres": 74,
         "skin": 26,
         "test": 144,
         "mass": 36.1,
         "pedi": 0.557,
         "age": 50,
         "class": 1,
         "_deepnote_index_column": 613
        },
        {
         "preg": 8,
         "plas": 155,
         "pres": 62,
         "skin": 26,
         "test": 495,
         "mass": 34,
         "pedi": 0.543,
         "age": 46,
         "class": 1,
         "_deepnote_index_column": 110
        },
        {
         "preg": 5,
         "plas": 187,
         "pres": 76,
         "skin": 27,
         "test": 207,
         "mass": 43.6,
         "pedi": 1.034,
         "age": 53,
         "class": 1,
         "_deepnote_index_column": 545
        },
        {
         "preg": 11,
         "plas": 155,
         "pres": 76,
         "skin": 28,
         "test": 150,
         "mass": 33.3,
         "pedi": 1.353,
         "age": 51,
         "class": 1,
         "_deepnote_index_column": 258
        },
        {
         "preg": 9,
         "plas": 156,
         "pres": 86,
         "skin": 28,
         "test": 155,
         "mass": 34.3,
         "pedi": 1.189,
         "age": 42,
         "class": 1,
         "_deepnote_index_column": 151
        },
        {
         "preg": 7,
         "plas": 150,
         "pres": 78,
         "skin": 29,
         "test": 126,
         "mass": 35.2,
         "pedi": 0.692,
         "age": 54,
         "class": 1,
         "_deepnote_index_column": 602
        },
        {
         "preg": 8,
         "plas": 196,
         "pres": 76,
         "skin": 29,
         "test": 280,
         "mass": 37.5,
         "pedi": 0.605,
         "age": 57,
         "class": 1,
         "_deepnote_index_column": 205
        },
        {
         "preg": 8,
         "plas": 151,
         "pres": 78,
         "skin": 32,
         "test": 210,
         "mass": 42.9,
         "pedi": 0.516,
         "age": 36,
         "class": 1,
         "_deepnote_index_column": 423
        }
       ]
      },
      "text/plain": "     preg  plas  pres  skin  test  mass   pedi  age  class\n235     7   181    84    21   192  35.9  0.586   51      1\n42      9   171   110    24   240  45.4  0.721   54      1\n613    11   138    74    26   144  36.1  0.557   50      1\n110     8   155    62    26   495  34.0  0.543   46      1\n545     5   187    76    27   207  43.6  1.034   53      1\n258    11   155    76    28   150  33.3  1.353   51      1\n151     9   156    86    28   155  34.3  1.189   42      1\n602     7   150    78    29   126  35.2  0.692   54      1\n205     8   196    76    29   280  37.5  0.605   57      1\n423     8   151    78    32   210  42.9  0.516   36      1\n714     7   187    50    33   392  33.9  0.826   34      1\n214    12   151    70    40   271  41.8  0.742   38      1\n158    17   163    72    41   114  40.9  0.817   47      1\n174     8   179    72    42   130  32.7  0.719   36      1\n611     7   168    88    42   321  38.2  0.787   40      1\n374    12   140    82    43   325  39.2  0.528   58      1\n662     9   145    80    46   130  37.9  0.637   40      1\n457    10   148    84    48   237  37.6  1.001   51      1",
      "text/html": "<div>\n<style scoped>\n    .dataframe tbody tr th:only-of-type {\n        vertical-align: middle;\n    }\n\n    .dataframe tbody tr th {\n        vertical-align: top;\n    }\n\n    .dataframe thead th {\n        text-align: right;\n    }\n</style>\n<table border=\"1\" class=\"dataframe\">\n  <thead>\n    <tr style=\"text-align: right;\">\n      <th></th>\n      <th>preg</th>\n      <th>plas</th>\n      <th>pres</th>\n      <th>skin</th>\n      <th>test</th>\n      <th>mass</th>\n      <th>pedi</th>\n      <th>age</th>\n      <th>class</th>\n    </tr>\n  </thead>\n  <tbody>\n    <tr>\n      <th>235</th>\n      <td>7</td>\n      <td>181</td>\n      <td>84</td>\n      <td>21</td>\n      <td>192</td>\n      <td>35.9</td>\n      <td>0.586</td>\n      <td>51</td>\n      <td>1</td>\n    </tr>\n    <tr>\n      <th>42</th>\n      <td>9</td>\n      <td>171</td>\n      <td>110</td>\n      <td>24</td>\n      <td>240</td>\n      <td>45.4</td>\n      <td>0.721</td>\n      <td>54</td>\n      <td>1</td>\n    </tr>\n    <tr>\n      <th>613</th>\n      <td>11</td>\n      <td>138</td>\n      <td>74</td>\n      <td>26</td>\n      <td>144</td>\n      <td>36.1</td>\n      <td>0.557</td>\n      <td>50</td>\n      <td>1</td>\n    </tr>\n    <tr>\n      <th>110</th>\n      <td>8</td>\n      <td>155</td>\n      <td>62</td>\n      <td>26</td>\n      <td>495</td>\n      <td>34.0</td>\n      <td>0.543</td>\n      <td>46</td>\n      <td>1</td>\n    </tr>\n    <tr>\n      <th>545</th>\n      <td>5</td>\n      <td>187</td>\n      <td>76</td>\n      <td>27</td>\n      <td>207</td>\n      <td>43.6</td>\n      <td>1.034</td>\n      <td>53</td>\n      <td>1</td>\n    </tr>\n    <tr>\n      <th>258</th>\n      <td>11</td>\n      <td>155</td>\n      <td>76</td>\n      <td>28</td>\n      <td>150</td>\n      <td>33.3</td>\n      <td>1.353</td>\n      <td>51</td>\n      <td>1</td>\n    </tr>\n    <tr>\n      <th>151</th>\n      <td>9</td>\n      <td>156</td>\n      <td>86</td>\n      <td>28</td>\n      <td>155</td>\n      <td>34.3</td>\n      <td>1.189</td>\n      <td>42</td>\n      <td>1</td>\n    </tr>\n    <tr>\n      <th>602</th>\n      <td>7</td>\n      <td>150</td>\n      <td>78</td>\n      <td>29</td>\n      <td>126</td>\n      <td>35.2</td>\n      <td>0.692</td>\n      <td>54</td>\n      <td>1</td>\n    </tr>\n    <tr>\n      <th>205</th>\n      <td>8</td>\n      <td>196</td>\n      <td>76</td>\n      <td>29</td>\n      <td>280</td>\n      <td>37.5</td>\n      <td>0.605</td>\n      <td>57</td>\n      <td>1</td>\n    </tr>\n    <tr>\n      <th>423</th>\n      <td>8</td>\n      <td>151</td>\n      <td>78</td>\n      <td>32</td>\n      <td>210</td>\n      <td>42.9</td>\n      <td>0.516</td>\n      <td>36</td>\n      <td>1</td>\n    </tr>\n    <tr>\n      <th>714</th>\n      <td>7</td>\n      <td>187</td>\n      <td>50</td>\n      <td>33</td>\n      <td>392</td>\n      <td>33.9</td>\n      <td>0.826</td>\n      <td>34</td>\n      <td>1</td>\n    </tr>\n    <tr>\n      <th>214</th>\n      <td>12</td>\n      <td>151</td>\n      <td>70</td>\n      <td>40</td>\n      <td>271</td>\n      <td>41.8</td>\n      <td>0.742</td>\n      <td>38</td>\n      <td>1</td>\n    </tr>\n    <tr>\n      <th>158</th>\n      <td>17</td>\n      <td>163</td>\n      <td>72</td>\n      <td>41</td>\n      <td>114</td>\n      <td>40.9</td>\n      <td>0.817</td>\n      <td>47</td>\n      <td>1</td>\n    </tr>\n    <tr>\n      <th>174</th>\n      <td>8</td>\n      <td>179</td>\n      <td>72</td>\n      <td>42</td>\n      <td>130</td>\n      <td>32.7</td>\n      <td>0.719</td>\n      <td>36</td>\n      <td>1</td>\n    </tr>\n    <tr>\n      <th>611</th>\n      <td>7</td>\n      <td>168</td>\n      <td>88</td>\n      <td>42</td>\n      <td>321</td>\n      <td>38.2</td>\n      <td>0.787</td>\n      <td>40</td>\n      <td>1</td>\n    </tr>\n    <tr>\n      <th>374</th>\n      <td>12</td>\n      <td>140</td>\n      <td>82</td>\n      <td>43</td>\n      <td>325</td>\n      <td>39.2</td>\n      <td>0.528</td>\n      <td>58</td>\n      <td>1</td>\n    </tr>\n    <tr>\n      <th>662</th>\n      <td>9</td>\n      <td>145</td>\n      <td>80</td>\n      <td>46</td>\n      <td>130</td>\n      <td>37.9</td>\n      <td>0.637</td>\n      <td>40</td>\n      <td>1</td>\n    </tr>\n    <tr>\n      <th>457</th>\n      <td>10</td>\n      <td>148</td>\n      <td>84</td>\n      <td>48</td>\n      <td>237</td>\n      <td>37.6</td>\n      <td>1.001</td>\n      <td>51</td>\n      <td>1</td>\n    </tr>\n  </tbody>\n</table>\n</div>"
     },
     "metadata": {}
    }
   ],
   "execution_count": null
  },
  {
   "cell_type": "markdown",
   "source": "Now let's find the 4 largest values for `\"age\"`",
   "metadata": {
    "colab_type": "text",
    "id": "BIJkXsK4ch-u",
    "cell_id": "00025-31c03cc1-a702-4c90-89f0-dab8fb9b51bf",
    "deepnote_cell_type": "markdown",
    "deepnote_cell_height": 52.390625
   }
  },
  {
   "cell_type": "code",
   "metadata": {
    "colab_type": "code",
    "id": "kSl28jLLdAF9",
    "colab": {},
    "cell_id": "00026-9728e4ca-d0d3-4d8c-a818-707a90e9e5d3",
    "deepnote_to_be_reexecuted": false,
    "source_hash": "a063b5a0",
    "execution_start": 1657721426315,
    "execution_millis": 4,
    "deepnote_cell_type": "code",
    "deepnote_cell_height": 226.46875
   },
   "source": "age_sample = data_above_avg.sort_values('age', ascending = False, na_position='first')\nfour_large_ages = age_sample['age'].head(4)\nprint(four_large_ages)",
   "outputs": [
    {
     "name": "stdout",
     "text": "374    58\n205    57\n602    54\n42     54\nName: age, dtype: int64\n",
     "output_type": "stream"
    }
   ],
   "execution_count": null
  },
  {
   "cell_type": "markdown",
   "source": "Now find the smallest 4 values for `\"pedi\"` and `\"plas\"` in reverse order (smallest to largest).",
   "metadata": {
    "colab_type": "text",
    "id": "fJRwe8UfqvNG",
    "cell_id": "00027-a5e12cb1-a313-47bf-9640-256181c460ad",
    "deepnote_cell_type": "markdown",
    "deepnote_cell_height": 52.390625
   }
  },
  {
   "cell_type": "code",
   "metadata": {
    "colab_type": "code",
    "id": "icQcbPg1quNI",
    "colab": {},
    "cell_id": "00028-2add4c0a-65b7-424e-a4d9-756817979e60",
    "deepnote_to_be_reexecuted": false,
    "source_hash": "6c29241e",
    "execution_start": 1657721426317,
    "execution_millis": 2,
    "owner_user_id": "e94e271e-1563-4262-b9b3-a19ce0069a2d",
    "deepnote_cell_type": "code",
    "deepnote_cell_height": 454.34375
   },
   "source": "pedi_reverse = data_above_avg.sort_values('pedi', ascending = True, na_position='first')\nplas_reverse = data_above_avg.sort_values('plas', ascending = True, na_position='first')\nfour_small_pedi = pedi_reverse['pedi'].head(4)\nfour_small_plas = plas_reverse['plas'].head(4)\nprint(\"Diabetes Pedigree Function: \")\nprint(four_small_pedi)\nprint(\"Plasma Glucose Concentration: \")\nprint(four_small_plas)",
   "outputs": [
    {
     "name": "stdout",
     "text": "Diabetes Pedigree Function: \n423    0.516\n374    0.528\n110    0.543\n613    0.557\nName: pedi, dtype: float64\nPlasma Glucose Concentration: \n613    138\n374    140\n662    145\n457    148\nName: plas, dtype: int64\n",
     "output_type": "stream"
    }
   ],
   "execution_count": null
  },
  {
   "cell_type": "markdown",
   "source": "<a style='text-decoration:none;line-height:16px;display:flex;color:#5B5B62;padding:10px;justify-content:end;' href='https://deepnote.com?utm_source=created-in-deepnote-cell&projectId=6fac23e8-a2d4-494f-8b82-1d56f2df003b' target=\"_blank\">\n<img alt='Created in deepnote.com' style='display:inline;max-height:16px;margin:0px;margin-right:7.5px;' src='data:image/svg+xml;base64,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' > </img>\nCreated in <span style='font-weight:600;margin-left:4px;'>Deepnote</span></a>",
   "metadata": {
    "tags": [],
    "created_in_deepnote_cell": true,
    "deepnote_cell_type": "markdown"
   }
  }
 ],
 "nbformat": 4,
 "nbformat_minor": 0,
 "metadata": {
  "colab": {
   "name": "Pandas_Exercises",
   "provenance": [],
   "collapsed_sections": []
  },
  "kernelspec": {
   "display_name": "Python 3",
   "language": "python",
   "name": "python3"
  },
  "language_info": {
   "codemirror_mode": {
    "name": "ipython",
    "version": 3
   },
   "file_extension": ".py",
   "mimetype": "text/x-python",
   "name": "python",
   "nbconvert_exporter": "python",
   "pygments_lexer": "ipython3",
   "version": "3.7.3"
  },
  "deepnote_notebook_id": "86faf811-6ae2-4018-b15f-d354237ab127",
  "deepnote": {},
  "deepnote_execution_queue": []
 }
}